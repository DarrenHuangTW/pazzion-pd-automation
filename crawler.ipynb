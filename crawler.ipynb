{
 "cells": [
  {
   "cell_type": "code",
   "execution_count": 2,
   "metadata": {},
   "outputs": [],
   "source": [
    "import requests\n",
    "from bs4 import BeautifulSoup\n",
    "import pandas as pd\n"
   ]
  },
  {
   "cell_type": "code",
   "execution_count": 3,
   "metadata": {},
   "outputs": [],
   "source": [
    "def scrape_product_info(url):\n",
    "    \"\"\"Scrapes product information from the given URL.\"\"\"\n",
    "\n",
    "    response = requests.get(url)\n",
    "    response.raise_for_status()  # Raise an exception for bad status codes\n",
    "\n",
    "    soup = BeautifulSoup(response.content, 'html.parser')\n",
    "\n",
    "    product_name = soup.find('h1', class_='product-title').span.text.strip()\n",
    "    product_images = ['https:' + a['href'] for a in soup.find_all('a', class_='fancybox')]\n",
    "    product_description = soup.find('ul', class_='tabs-content').find_all('p')[1].text.strip()\n",
    "\n",
    "    return {\n",
    "        'URL': url,\n",
    "        'Product_Name': product_name,\n",
    "        'Product_Images': product_images,\n",
    "        'Product_Description': product_description\n",
    "    }\n",
    "\n",
    "def process_urls(urls, df):\n",
    "    for url in urls:\n",
    "        if not df['URL'].str.contains(url).any():\n",
    "            product_info = scrape_product_info(url)\n",
    "            df = pd.concat([df, pd.DataFrame([product_info])], ignore_index=True)\n",
    "    return df"
   ]
  },
  {
   "cell_type": "code",
   "execution_count": 4,
   "metadata": {},
   "outputs": [],
   "source": [
    "# Example usage:\n",
    "urls = [\n",
    "    'https://www.pazzion.com/collections/best-seller/products/1108-2a-karina-studded-bow-ballet-flats?variant=44575817367795',\n",
    "    'https://www.pazzion.com/collections/best-seller/products/6831-2-della-slip-on-slide-sandals?variant=44932972347635',\n",
    "    'https://www.pazzion.com/collections/best-seller/products/6188-15-taryn-leather-espadrilles?variant=45258557325555',\n",
    "    'https://www.pazzion.com/collections/best-seller/products/1389-3-nayeli-leather-sneakers?variant=44133419122931',\n",
    "    'https://www.pazzion.com/collections/best-seller/products/128-55a-nova-bow-covered-flats?variant=44079692415219',\n",
    "    'https://www.pazzion.com/collections/best-seller/products/copy-of-aurora-glitter-weaved-flats?variant=43757807436019'\n",
    "]\n"
   ]
  },
  {
   "cell_type": "code",
   "execution_count": 5,
   "metadata": {},
   "outputs": [
    {
     "data": {
      "text/html": [
       "<div>\n",
       "<style scoped>\n",
       "    .dataframe tbody tr th:only-of-type {\n",
       "        vertical-align: middle;\n",
       "    }\n",
       "\n",
       "    .dataframe tbody tr th {\n",
       "        vertical-align: top;\n",
       "    }\n",
       "\n",
       "    .dataframe thead th {\n",
       "        text-align: right;\n",
       "    }\n",
       "</style>\n",
       "<table border=\"1\" class=\"dataframe\">\n",
       "  <thead>\n",
       "    <tr style=\"text-align: right;\">\n",
       "      <th></th>\n",
       "      <th>URL</th>\n",
       "      <th>Product_Name</th>\n",
       "      <th>Product_Images</th>\n",
       "      <th>Product_Description</th>\n",
       "    </tr>\n",
       "  </thead>\n",
       "  <tbody>\n",
       "    <tr>\n",
       "      <th>0</th>\n",
       "      <td>https://www.pazzion.com/collections/best-selle...</td>\n",
       "      <td>Karina Studded Bow Ballet Flats</td>\n",
       "      <td>[https://www.pazzion.com/cdn/shop/files/Karina...</td>\n",
       "      <td>Elegantly embellished with chic studded detail...</td>\n",
       "    </tr>\n",
       "    <tr>\n",
       "      <th>1</th>\n",
       "      <td>https://www.pazzion.com/collections/best-selle...</td>\n",
       "      <td>Della Slip On Slide Sandals</td>\n",
       "      <td>[https://www.pazzion.com/cdn/shop/files/DellaS...</td>\n",
       "      <td>For the fashion-forward woman seeking both sty...</td>\n",
       "    </tr>\n",
       "    <tr>\n",
       "      <th>2</th>\n",
       "      <td>https://www.pazzion.com/collections/best-selle...</td>\n",
       "      <td>Taryn Leather Espadrilles</td>\n",
       "      <td>[https://www.pazzion.com/cdn/shop/files/TarynL...</td>\n",
       "      <td>Taryn - redefining elegance with their refined...</td>\n",
       "    </tr>\n",
       "    <tr>\n",
       "      <th>3</th>\n",
       "      <td>https://www.pazzion.com/collections/best-selle...</td>\n",
       "      <td>Nayeli Leather Sneakers</td>\n",
       "      <td>[https://www.pazzion.com/cdn/shop/files/Nayeli...</td>\n",
       "      <td>Nayeli Leather Sneakers is the epitome of dura...</td>\n",
       "    </tr>\n",
       "    <tr>\n",
       "      <th>4</th>\n",
       "      <td>https://www.pazzion.com/collections/best-selle...</td>\n",
       "      <td>Nova Bow Covered Flats</td>\n",
       "      <td>[https://www.pazzion.com/cdn/shop/files/NovaBo...</td>\n",
       "      <td>Nova exemplifies the beauty of simplicity, whe...</td>\n",
       "    </tr>\n",
       "    <tr>\n",
       "      <th>5</th>\n",
       "      <td>https://www.pazzion.com/collections/best-selle...</td>\n",
       "      <td>Aurora Glitter Weaved Flats</td>\n",
       "      <td>[https://www.pazzion.com/cdn/shop/files/Aurora...</td>\n",
       "      <td>Nothing screams bridal beauty like a pair of g...</td>\n",
       "    </tr>\n",
       "  </tbody>\n",
       "</table>\n",
       "</div>"
      ],
      "text/plain": [
       "                                                 URL  \\\n",
       "0  https://www.pazzion.com/collections/best-selle...   \n",
       "1  https://www.pazzion.com/collections/best-selle...   \n",
       "2  https://www.pazzion.com/collections/best-selle...   \n",
       "3  https://www.pazzion.com/collections/best-selle...   \n",
       "4  https://www.pazzion.com/collections/best-selle...   \n",
       "5  https://www.pazzion.com/collections/best-selle...   \n",
       "\n",
       "                      Product_Name  \\\n",
       "0  Karina Studded Bow Ballet Flats   \n",
       "1      Della Slip On Slide Sandals   \n",
       "2        Taryn Leather Espadrilles   \n",
       "3          Nayeli Leather Sneakers   \n",
       "4           Nova Bow Covered Flats   \n",
       "5      Aurora Glitter Weaved Flats   \n",
       "\n",
       "                                      Product_Images  \\\n",
       "0  [https://www.pazzion.com/cdn/shop/files/Karina...   \n",
       "1  [https://www.pazzion.com/cdn/shop/files/DellaS...   \n",
       "2  [https://www.pazzion.com/cdn/shop/files/TarynL...   \n",
       "3  [https://www.pazzion.com/cdn/shop/files/Nayeli...   \n",
       "4  [https://www.pazzion.com/cdn/shop/files/NovaBo...   \n",
       "5  [https://www.pazzion.com/cdn/shop/files/Aurora...   \n",
       "\n",
       "                                 Product_Description  \n",
       "0  Elegantly embellished with chic studded detail...  \n",
       "1  For the fashion-forward woman seeking both sty...  \n",
       "2  Taryn - redefining elegance with their refined...  \n",
       "3  Nayeli Leather Sneakers is the epitome of dura...  \n",
       "4  Nova exemplifies the beauty of simplicity, whe...  \n",
       "5  Nothing screams bridal beauty like a pair of g...  "
      ]
     },
     "execution_count": 5,
     "metadata": {},
     "output_type": "execute_result"
    }
   ],
   "source": [
    "df = pd.DataFrame(columns=['URL', 'Product_Name', 'Product_Images', 'Product_Description'])\n",
    "df = process_urls(urls, df)\n",
    "df"
   ]
  },
  {
   "cell_type": "code",
   "execution_count": 15,
   "metadata": {},
   "outputs": [],
   "source": [
    "df.to_csv('examples/examples_original.csv', index=False)\n"
   ]
  },
  {
   "cell_type": "code",
   "execution_count": 7,
   "metadata": {},
   "outputs": [],
   "source": [
    "df.to_csv('demo/batch_1.csv', index=False)\n"
   ]
  }
 ],
 "metadata": {
  "kernelspec": {
   "display_name": "base",
   "language": "python",
   "name": "python3"
  },
  "language_info": {
   "codemirror_mode": {
    "name": "ipython",
    "version": 3
   },
   "file_extension": ".py",
   "mimetype": "text/x-python",
   "name": "python",
   "nbconvert_exporter": "python",
   "pygments_lexer": "ipython3",
   "version": "3.11.7"
  }
 },
 "nbformat": 4,
 "nbformat_minor": 2
}
